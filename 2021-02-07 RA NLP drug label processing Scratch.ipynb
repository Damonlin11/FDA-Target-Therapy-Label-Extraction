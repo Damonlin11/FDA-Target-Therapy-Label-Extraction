{
 "cells": [
  {
   "cell_type": "code",
   "execution_count": 106,
   "metadata": {},
   "outputs": [],
   "source": [
    "from lxml import etree\n",
    "import requests\n",
    "import lxml.html"
   ]
  },
  {
   "cell_type": "code",
   "execution_count": 107,
   "metadata": {},
   "outputs": [],
   "source": [
    "# get the url and parse the link\n",
    "url = \"https://www.cancer.gov/about-cancer/treatment/types/targeted-therapies/targeted-therapies-fact-sheet\"\n",
    "rp = requests.get(url)\n",
    "page = lxml.html.fromstring(rp.text)\n",
    "#page = etree.HTML(rp.text)"
   ]
  },
  {
   "cell_type": "code",
   "execution_count": 108,
   "metadata": {},
   "outputs": [
    {
     "data": {
      "text/plain": [
       "['/about-cancer/treatment/drugs/atezolizumab',\n",
       " '/about-cancer/treatment/drugs/nivolumab',\n",
       " '/about-cancer/treatment/drugs/durvalumab',\n",
       " '/about-cancer/treatment/drugs/avelumab',\n",
       " '/about-cancer/treatment/drugs/pembrolizumab',\n",
       " '/about-cancer/treatment/drugs/erdafitinib',\n",
       " 'https://www.cancer.gov/about-cancer/treatment/drugs/enfortumabvedotin-ejfv',\n",
       " '/about-cancer/treatment/drugs/bevacizumab',\n",
       " '/about-cancer/treatment/drugs/everolimus',\n",
       " '/about-cancer/treatment/drugs/everolimus',\n",
       " '/about-cancer/treatment/drugs/tamoxifencitrate',\n",
       " '/about-cancer/treatment/drugs/toremifene',\n",
       " '/about-cancer/treatment/drugs/trastuzumab',\n",
       " '/about-cancer/treatment/drugs/fulvestrant',\n",
       " '/about-cancer/treatment/drugs/anastrozole',\n",
       " '/about-cancer/treatment/drugs/exemestane',\n",
       " '/about-cancer/treatment/drugs/lapatinibditosylate',\n",
       " '/about-cancer/treatment/drugs/letrozole',\n",
       " '/about-cancer/treatment/drugs/pertuzumab',\n",
       " '/about-cancer/treatment/drugs/ado-trastuzumab-emtansine',\n",
       " '/about-cancer/treatment/drugs/palbociclib',\n",
       " '/about-cancer/treatment/drugs/ribociclib',\n",
       " '/about-cancer/treatment/drugs/neratinibmaleate',\n",
       " '/about-cancer/treatment/drugs/abemaciclib',\n",
       " '/about-cancer/treatment/drugs/olaparib',\n",
       " 'https://www.cancer.gov/about-cancer/treatment/drugs/talazoparibtosylate',\n",
       " '/about-cancer/treatment/drugs/atezolizumab',\n",
       " '/about-cancer/treatment/drugs/alpelisib',\n",
       " 'https://www.cancer.gov/about-cancer/treatment/drugs/famtrastuzumabderuxtecan-nxki',\n",
       " 'https://www.cancer.gov/about-cancer/treatment/drugs/tucatinib',\n",
       " 'https://www.cancer.gov/about-cancer/treatment/drugs/sacituzumabgovitecan-hziy',\n",
       " '/about-cancer/treatment/drugs/pertuzumabtrastuzumabandhyaluronidase-zzxf',\n",
       " '/about-cancer/treatment/drugs/pembrolizumab',\n",
       " '/about-cancer/treatment/drugs/margetuximab-cmkb',\n",
       " '/about-cancer/treatment/drugs/bevacizumab',\n",
       " '/about-cancer/treatment/drugs/pembrolizumab',\n",
       " '/about-cancer/treatment/drugs/cetuximab',\n",
       " '/about-cancer/treatment/drugs/panitumumab',\n",
       " '/about-cancer/treatment/drugs/bevacizumab',\n",
       " '/about-cancer/treatment/drugs/ziv-aflibercept',\n",
       " '/about-cancer/treatment/drugs/regorafenib',\n",
       " '/about-cancer/treatment/drugs/ramucirumab',\n",
       " '/about-cancer/treatment/drugs/nivolumab',\n",
       " '/about-cancer/treatment/drugs/ipilimumab',\n",
       " '/about-cancer/treatment/drugs/encorafenib',\n",
       " '/about-cancer/treatment/drugs/pembrolizumab',\n",
       " '/about-cancer/treatment/drugs/imatinibmesylate',\n",
       " '/about-cancer/treatment/drugs/lanreotideacetate',\n",
       " '/about-cancer/treatment/drugs/avelumab',\n",
       " '/about-cancer/treatment/drugs/lutetiumlu177-dotatate',\n",
       " '/about-cancer/treatment/drugs/iobenguanei131',\n",
       " '/about-cancer/treatment/drugs/pembrolizumab',\n",
       " '/about-cancer/treatment/drugs/lenvatinibmesylate',\n",
       " '/about-cancer/treatment/drugs/trastuzumab',\n",
       " '/about-cancer/treatment/drugs/ramucirumab',\n",
       " '/about-cancer/treatment/drugs/pembrolizumab',\n",
       " '/about-cancer/treatment/drugs/nivolumab',\n",
       " '/about-cancer/treatment/drugs/famtrastuzumabderuxtecan-nxki',\n",
       " '/about-cancer/treatment/drugs/cetuximab',\n",
       " '/about-cancer/treatment/drugs/pembrolizumab',\n",
       " '/about-cancer/treatment/drugs/nivolumab',\n",
       " '/about-cancer/treatment/drugs/imatinibmesylate',\n",
       " '/about-cancer/treatment/drugs/sunitinibmalate',\n",
       " '/about-cancer/treatment/drugs/regorafenib',\n",
       " 'https://www.cancer.gov/about-cancer/treatment/drugs/avapritinib',\n",
       " '/about-cancer/treatment/drugs/ripretinib',\n",
       " '/about-cancer/treatment/drugs/denosumab',\n",
       " '/about-cancer/treatment/drugs/pexidartinib',\n",
       " '/about-cancer/treatment/drugs/bevacizumab',\n",
       " '/about-cancer/treatment/drugs/sorafenibtosylate',\n",
       " '/about-cancer/treatment/drugs/sunitinibmalate',\n",
       " '/about-cancer/treatment/drugs/pazopanibhydrochloride',\n",
       " '/about-cancer/treatment/drugs/temsirolimus',\n",
       " '/about-cancer/treatment/drugs/everolimus',\n",
       " '/about-cancer/treatment/drugs/axitinib',\n",
       " '/about-cancer/treatment/drugs/nivolumab',\n",
       " '/about-cancer/treatment/drugs/cabozantinib-s-malate',\n",
       " '/about-cancer/treatment/drugs/lenvatinibmesylate',\n",
       " '/about-cancer/treatment/drugs/ipilimumab',\n",
       " '/about-cancer/treatment/drugs/pembrolizumab',\n",
       " '/about-cancer/treatment/drugs/avelumab',\n",
       " '/publications/dictionaries/cancer-drug/def/tretinoin',\n",
       " '/about-cancer/treatment/drugs/imatinibmesylate',\n",
       " '/about-cancer/treatment/drugs/dasatinib',\n",
       " '/about-cancer/treatment/drugs/nilotinib',\n",
       " '/about-cancer/treatment/drugs/bosutinib',\n",
       " '/about-cancer/treatment/drugs/rituximab',\n",
       " '/about-cancer/treatment/drugs/alemtuzumab',\n",
       " '/about-cancer/treatment/drugs/ofatumumab',\n",
       " '/about-cancer/treatment/drugs/obinutuzumab',\n",
       " '/about-cancer/treatment/drugs/ibrutinib',\n",
       " '/about-cancer/treatment/drugs/idelalisib',\n",
       " '/about-cancer/treatment/drugs/blinatumomab',\n",
       " '/about-cancer/treatment/drugs/venetoclax',\n",
       " '/about-cancer/treatment/drugs/ponatinibhydrochloride',\n",
       " '/about-cancer/treatment/drugs/midostaurin',\n",
       " '/about-cancer/treatment/drugs/enasidenibmesylate',\n",
       " '/about-cancer/treatment/drugs/inotuzumabozogamicin',\n",
       " '/about-cancer/treatment/drugs/tisagenlecleucel',\n",
       " '/about-cancer/treatment/drugs/gemtuzumabozogamicin',\n",
       " '/about-cancer/treatment/drugs/rituximabandhyaluronidasehuman',\n",
       " '/about-cancer/treatment/drugs/ivosidenib',\n",
       " '/about-cancer/treatment/drugs/duvelisib',\n",
       " '/about-cancer/treatment/drugs/moxetumomabpasudotoxtdfk',\n",
       " '/about-cancer/treatment/drugs/glasdegibmaleate',\n",
       " '/about-cancer/treatment/drugs/gilteritinibfumarate',\n",
       " '/about-cancer/treatment/drugs/tagraxofusp-erzs',\n",
       " '/about-cancer/treatment/drugs/acalabrutinib',\n",
       " '/about-cancer/treatment/drugs/sorafenibtosylate',\n",
       " '/about-cancer/treatment/drugs/regorafenib',\n",
       " '/about-cancer/treatment/drugs/nivolumab',\n",
       " '/about-cancer/treatment/drugs/lenvatinibmesylate',\n",
       " '/about-cancer/treatment/drugs/pembrolizumab',\n",
       " '/about-cancer/treatment/drugs/cabozantinib-s-malate',\n",
       " '/about-cancer/treatment/drugs/ramucirumab',\n",
       " '/about-cancer/treatment/drugs/ipilimumab',\n",
       " 'https://www.cancer.gov/about-cancer/treatment/drugs/pemigatinib',\n",
       " '/about-cancer/treatment/drugs/atezolizumab',\n",
       " '/about-cancer/treatment/drugs/bevacizumab',\n",
       " '/about-cancer/treatment/drugs/bevacizumab',\n",
       " '/about-cancer/treatment/drugs/crizotinib',\n",
       " '/about-cancer/treatment/drugs/erlotinibhydrochloride',\n",
       " '/about-cancer/treatment/drugs/gefitinib',\n",
       " '/about-cancer/treatment/drugs/afatinibdimaleate',\n",
       " '/about-cancer/treatment/drugs/ceritinib',\n",
       " '/about-cancer/treatment/drugs/ramucirumab',\n",
       " '/about-cancer/treatment/drugs/nivolumab',\n",
       " '/about-cancer/treatment/drugs/pembrolizumab',\n",
       " '/about-cancer/treatment/drugs/osimertinib',\n",
       " '/about-cancer/treatment/drugs/necitumumab',\n",
       " '/about-cancer/treatment/drugs/alectinib',\n",
       " '/about-cancer/treatment/drugs/atezolizumab',\n",
       " '/about-cancer/treatment/drugs/brigatinib',\n",
       " '/about-cancer/treatment/drugs/trametinib',\n",
       " '/about-cancer/treatment/drugs/dabrafenib',\n",
       " '/about-cancer/treatment/drugs/durvalumab',\n",
       " '/about-cancer/treatment/drugs/dacomitinib',\n",
       " '/about-cancer/treatment/drugs/lorlatinib',\n",
       " 'https://www.cancer.gov/about-cancer/treatment/drugs/entrectinib',\n",
       " '/about-cancer/treatment/drugs/capmatinibhydrochloride',\n",
       " '/about-cancer/treatment/drugs/ipilimumab',\n",
       " '/about-cancer/treatment/drugs/selpercatinib',\n",
       " '/about-cancer/treatment/drugs/pralsetinib',\n",
       " '/about-cancer/treatment/drugs/ibritumomabtiuxetan',\n",
       " '/about-cancer/treatment/drugs/denileukindiftitox',\n",
       " '/about-cancer/treatment/drugs/brentuximabvedotin',\n",
       " '/about-cancer/treatment/drugs/rituximab',\n",
       " '/about-cancer/treatment/drugs/vorinostat',\n",
       " '/about-cancer/treatment/drugs/romidepsin',\n",
       " '/about-cancer/treatment/drugs/bexarotene',\n",
       " '/about-cancer/treatment/drugs/bortezomib',\n",
       " '/about-cancer/treatment/drugs/pralatrexate',\n",
       " '/about-cancer/treatment/drugs/ibrutinib',\n",
       " '/about-cancer/treatment/drugs/siltuximab',\n",
       " '/about-cancer/treatment/drugs/idelalisib',\n",
       " '/about-cancer/treatment/drugs/belinostat',\n",
       " '/about-cancer/treatment/drugs/obinutuzumab',\n",
       " '/about-cancer/treatment/drugs/nivolumab',\n",
       " '/about-cancer/treatment/drugs/pembrolizumab',\n",
       " '/about-cancer/treatment/drugs/rituximabandhyaluronidasehuman',\n",
       " '/about-cancer/treatment/drugs/copanlisibhydrochloride',\n",
       " '/about-cancer/treatment/drugs/axicabtageneciloleucel',\n",
       " '/about-cancer/treatment/drugs/acalabrutinib',\n",
       " '/about-cancer/treatment/drugs/tisagenlecleucel',\n",
       " '/about-cancer/treatment/drugs/venetoclax',\n",
       " '/about-cancer/treatment/drugs/mogamulizumabkpkc',\n",
       " '/about-cancer/treatment/drugs/duvelisib',\n",
       " '/about-cancer/treatment/drugs/polatuzumabvedotin-piiq',\n",
       " 'https://www.cancer.gov/about-cancer/treatment/drugs/zanubrutinib',\n",
       " '/about-cancer/treatment/drugs/tazemetostathydrobromide',\n",
       " '/about-cancer/treatment/drugs/selinexor',\n",
       " '/about-cancer/treatment/drugs/tafasitamab-cxix',\n",
       " '/about-cancer/treatment/drugs/brexucabtageneautoleucel',\n",
       " '/about-cancer/treatment/drugs/crizotinib',\n",
       " '/about-cancer/treatment/drugs/ipilimumab',\n",
       " '/about-cancer/treatment/drugs/nivolumab',\n",
       " '/about-cancer/treatment/drugs/pembrolizumab',\n",
       " '/about-cancer/treatment/drugs/bortezomib',\n",
       " '/about-cancer/treatment/drugs/carfilzomib',\n",
       " '/about-cancer/treatment/drugs/panobinostat',\n",
       " '/about-cancer/treatment/drugs/daratumumab',\n",
       " '/about-cancer/treatment/drugs/ixazomibcitrate',\n",
       " '/about-cancer/treatment/drugs/elotuzumab',\n",
       " '/about-cancer/treatment/drugs/selinexor',\n",
       " 'https://www.cancer.gov/about-cancer/treatment/drugs/isatuximab-irfc',\n",
       " 'https://www.cancer.gov/about-cancer/treatment/drugs/daratumumabandhyaluronidase-fihj',\n",
       " '/about-cancer/treatment/drugs/belantamabmafodotin-blmf',\n",
       " '/about-cancer/treatment/drugs/imatinibmesylate',\n",
       " '/about-cancer/treatment/drugs/ruxolitinibphosphate',\n",
       " 'https://www.cancer.gov/about-cancer/treatment/drugs/fedratinibhydrochloride',\n",
       " '/about-cancer/treatment/drugs/dinutuximab',\n",
       " '/about-cancer/treatment/drugs/naxitamab-gqgk',\n",
       " '/about-cancer/treatment/drugs/bevacizumab',\n",
       " '/about-cancer/treatment/drugs/olaparib',\n",
       " '/about-cancer/treatment/drugs/rucaparibcamsylate',\n",
       " '/about-cancer/treatment/drugs/niraparibtosylatemonohydrate',\n",
       " '/about-cancer/treatment/drugs/erlotinibhydrochloride',\n",
       " '/about-cancer/treatment/drugs/everolimus',\n",
       " '/about-cancer/treatment/drugs/sunitinibmalate',\n",
       " '/about-cancer/treatment/drugs/olaparib',\n",
       " 'https://www.cancer.gov/about-cancer/treatment/drugs/selumetinibsulfate',\n",
       " '/about-cancer/treatment/drugs/cabazitaxel',\n",
       " '/about-cancer/treatment/drugs/enzalutamide',\n",
       " '/about-cancer/treatment/drugs/abirateroneacetate',\n",
       " '/about-cancer/treatment/drugs/radium-223-dichloride',\n",
       " '/about-cancer/treatment/drugs/apalutamide',\n",
       " '/about-cancer/treatment/drugs/darolutamide',\n",
       " '/about-cancer/treatment/drugs/rucaparibcamsylate',\n",
       " '/about-cancer/treatment/drugs/rucaparibcamsylate',\n",
       " '/about-cancer/treatment/drugs/olaparib',\n",
       " '/about-cancer/treatment/drugs/vismodegib',\n",
       " '/about-cancer/treatment/drugs/sonidegib',\n",
       " '/about-cancer/treatment/drugs/ipilimumab',\n",
       " '/about-cancer/treatment/drugs/vemurafenib',\n",
       " '/about-cancer/treatment/drugs/trametinib',\n",
       " '/about-cancer/treatment/drugs/dabrafenib',\n",
       " '/about-cancer/treatment/drugs/pembrolizumab',\n",
       " '/about-cancer/treatment/drugs/nivolumab',\n",
       " '/about-cancer/treatment/drugs/cobimetinib',\n",
       " '/publications/dictionaries/cancer-drug/def/alitretinoin',\n",
       " '/about-cancer/treatment/drugs/avelumab',\n",
       " '/about-cancer/treatment/drugs/encorafenib',\n",
       " '/about-cancer/treatment/drugs/binimetinib',\n",
       " '/about-cancer/treatment/drugs/cemiplimab-rwlc',\n",
       " '/about-cancer/treatment/drugs/atezolizumab',\n",
       " '/about-cancer/treatment/drugs/pazopanibhydrochloride',\n",
       " '/publications/dictionaries/cancer-drug/def/alitretinoin',\n",
       " 'https://www.cancer.gov/about-cancer/treatment/drugs/tazemetostathydrobromide',\n",
       " '/about-cancer/treatment/drugs/pembrolizumab',\n",
       " 'https://www.cancer.gov/about-cancer/treatment/drugs/larotrectinibsulfate',\n",
       " 'https://www.cancer.gov/about-cancer/treatment/drugs/entrectinib',\n",
       " '/about-cancer/treatment/drugs/pembrolizumab',\n",
       " '/about-cancer/treatment/drugs/trastuzumab',\n",
       " '/about-cancer/treatment/drugs/ramucirumab',\n",
       " '/about-cancer/treatment/drugs/famtrastuzumabderuxtecan-nxki',\n",
       " '/about-cancer/treatment/drugs/imatinibmesylate',\n",
       " '/about-cancer/treatment/drugs/midostaurin',\n",
       " '/about-cancer/treatment/drugs/cabozantinib-s-malate',\n",
       " '/about-cancer/treatment/drugs/vandetanib',\n",
       " '/about-cancer/treatment/drugs/sorafenibtosylate',\n",
       " '/about-cancer/treatment/drugs/lenvatinibmesylate',\n",
       " '/about-cancer/treatment/drugs/trametinib',\n",
       " 'Dabrafenib Mesylate',\n",
       " '/about-cancer/treatment/drugs/selpercatinib',\n",
       " '/about-cancer/treatment/drugs/pralsetinib']"
      ]
     },
     "execution_count": 108,
     "metadata": {},
     "output_type": "execute_result"
    }
   ],
   "source": [
    "therapies = page.xpath(\"//section[h2[@id = 'what-targeted-therapies-have-been-approved-for-specific-types-of-cancer']]//p//a/@href\")\n",
    "therapies"
   ]
  },
  {
   "cell_type": "code",
   "execution_count": 380,
   "metadata": {},
   "outputs": [
    {
     "name": "stdout",
     "output_type": "stream",
     "text": [
      "URL is valid and exists on the internet\n"
     ]
    }
   ],
   "source": [
    "# test if the url is exist\n",
    "link = \"https://www.cancer.gov/about-cancer/treatment/drugs/nivolumab\"\n",
    "try:\n",
    "    response = requests.get(link)\n",
    "    print(\"URL is valid and exists on the internet\")\n",
    "except requests.ConnectionError as exception:\n",
    "    print(\"URL does not exist on Internet\")"
   ]
  },
  {
   "cell_type": "code",
   "execution_count": 381,
   "metadata": {},
   "outputs": [],
   "source": [
    "# get the targeted therapy url and parse it\n",
    "ther_url = requests.get(link) \n",
    "#ther_page = etree.HTML(ther_url.text)\n",
    "ther_page = lxml.html.fromstring(ther_url.content)"
   ]
  },
  {
   "cell_type": "code",
   "execution_count": 382,
   "metadata": {},
   "outputs": [
    {
     "data": {
      "text/plain": [
       "['Nivolumab']"
      ]
     },
     "execution_count": 382,
     "metadata": {},
     "output_type": "execute_result"
    }
   ],
   "source": [
    "ther_name = ther_page.xpath(\"//article/div/h1/text()\")\n",
    "ther_name"
   ]
  },
  {
   "cell_type": "code",
   "execution_count": 383,
   "metadata": {},
   "outputs": [
    {
     "data": {
      "text/plain": [
       "['https://dailymed.nlm.nih.gov/dailymed/drugInfo.cfm?setid=f570b9c4-6846-4de2-abfa-4d0a4ae4e394&audience=consumer']"
      ]
     },
     "execution_count": 383,
     "metadata": {},
     "output_type": "execute_result"
    }
   ],
   "source": [
    "# get dailyMed link\n",
    "dailyMedURL = ther_page.xpath(\"//article//div/p/a[text() = 'FDA label information for this drug is available at DailyMed.']/@href\")\n",
    "dailyMedURL"
   ]
  },
  {
   "cell_type": "code",
   "execution_count": 384,
   "metadata": {},
   "outputs": [
    {
     "name": "stdout",
     "output_type": "stream",
     "text": [
      "Classic Hodgkin lymphoma\n",
      "Colorectal cancer\n",
      "Hepatocellular carcinoma\n",
      "Malignant pleural mesothelioma.\n",
      "Melanoma.\n",
      "Non-small cell lung cancer.\n",
      "Renal cell carcinoma\n",
      "Squamous cell carcinoma of the esophagus\n",
      "Squamous cell carcinoma of the head and neck\n",
      "Urothelial carcinoma\n"
     ]
    }
   ],
   "source": [
    "# extract the corresponding diseases (only for bold text, but non-bold is left (could be improved))\n",
    "#diseases = ther_page.xpath(\"//article//div[h2[contains(text(),'Use in Cancer')]]/ul/li/strong//text()\")\n",
    "diseases = ther_page.xpath(\"//article//div[h2[contains(text(),'Use in Cancer')]]/ul/li/strong\")\n",
    "for disease in diseases:\n",
    "    #print(desease)\n",
    "    print(disease.text_content())"
   ]
  },
  {
   "cell_type": "code",
   "execution_count": 385,
   "metadata": {},
   "outputs": [],
   "source": [
    "# remove punctuation at the end of disease\n",
    "punc = '''!()-[]{};:'\"\\, <>./?@#$%^&*_~'''"
   ]
  },
  {
   "cell_type": "code",
   "execution_count": 401,
   "metadata": {},
   "outputs": [
    {
     "name": "stdout",
     "output_type": "stream",
     "text": [
      "Colorectal cancer\n",
      "1\n",
      "Colorectal cancer in adults and children 12 years and older. It is used alone or with ipilimumab to treat metastatic microsatellite instability-high (MSI-H) or mismatch repair deficient (dMMR) cancer that got worse after treatment with a fluoropyrimidine, oxaliplatin, and irinotecan hydrochloride.¹\n"
     ]
    }
   ],
   "source": [
    "diseaseList = []\n",
    "for disease in diseases[1]:\n",
    "    dis = str(disease.text_content())\n",
    "    if dis[-1] in punc:  \n",
    "        dis = dis.replace(dis[-1], \"\")  \n",
    "    print(dis)\n",
    "    diseaseList.append(dis)\n",
    "    path = \"//article//div[h2[contains(text(),'Use in Cancer')]]/ul/li[strong/*[contains(text(),'\" + dis + \"')]]\"\n",
    "    diseaseContent = ther_page.xpath(path)\n",
    "    print(len(diseaseContent))\n",
    "    if len(diseaseContent)>0:\n",
    "\n",
    "        print(diseaseContent[0].text_content())"
   ]
  },
  {
   "cell_type": "code",
   "execution_count": 404,
   "metadata": {},
   "outputs": [
    {
     "name": "stdout",
     "output_type": "stream",
     "text": [
      "irinotecan hydrochloride.¹\n"
     ]
    }
   ],
   "source": [
    "# do NER\n",
    "geneProtein = ''\n",
    "text = diseaseContent[0].text_content()\n",
    "\n",
    "doc = nlp_craft(str(text))\n",
    "# filter a certain type\n",
    "for entity in doc.ents:\n",
    "    if entity.label_=='GGP':\n",
    "        geneProtein = geneProtein + ', ' + entity.text\n",
    "\n",
    "doc = nlp_jnlpha(str(text))\n",
    "# filter a certain type\n",
    "for entity in doc.ents:\n",
    "    if entity.label_=='PROTEIN':\n",
    "        geneProtein = geneProtein + ', ' + entity.text\n",
    "\n",
    "print(geneProtein[2:])"
   ]
  },
  {
   "cell_type": "code",
   "execution_count": 189,
   "metadata": {},
   "outputs": [
    {
     "data": {
      "text/plain": [
       "'ab'"
      ]
     },
     "execution_count": 189,
     "metadata": {},
     "output_type": "execute_result"
    }
   ],
   "source": [
    "'a' + 'b'"
   ]
  },
  {
   "cell_type": "markdown",
   "metadata": {},
   "source": [
    "# Bio-NER using scispacy"
   ]
  },
  {
   "cell_type": "code",
   "execution_count": 5,
   "metadata": {},
   "outputs": [
    {
     "name": "stdout",
     "output_type": "stream",
     "text": [
      "Requirement already up-to-date: spacy in /Users/damon/.pyenv/versions/3.7.0/lib/python3.7/site-packages (2.3.5)\n",
      "Requirement already satisfied, skipping upgrade: cymem<2.1.0,>=2.0.2 in /Users/damon/.pyenv/versions/3.7.0/lib/python3.7/site-packages (from spacy) (2.0.5)\n",
      "Requirement already satisfied, skipping upgrade: wasabi<1.1.0,>=0.4.0 in /Users/damon/.pyenv/versions/3.7.0/lib/python3.7/site-packages (from spacy) (0.8.2)\n",
      "Requirement already satisfied, skipping upgrade: srsly<1.1.0,>=1.0.2 in /Users/damon/.pyenv/versions/3.7.0/lib/python3.7/site-packages (from spacy) (1.0.5)\n",
      "Requirement already satisfied, skipping upgrade: requests<3.0.0,>=2.13.0 in /Users/damon/.pyenv/versions/3.7.0/lib/python3.7/site-packages (from spacy) (2.25.1)\n",
      "Requirement already satisfied, skipping upgrade: numpy>=1.15.0 in /Users/damon/.pyenv/versions/3.7.0/lib/python3.7/site-packages (from spacy) (1.19.1)\n",
      "Requirement already satisfied, skipping upgrade: preshed<3.1.0,>=3.0.2 in /Users/damon/.pyenv/versions/3.7.0/lib/python3.7/site-packages (from spacy) (3.0.5)\n",
      "Requirement already satisfied, skipping upgrade: plac<1.2.0,>=0.9.6 in /Users/damon/.pyenv/versions/3.7.0/lib/python3.7/site-packages (from spacy) (1.1.3)\n",
      "Requirement already satisfied, skipping upgrade: setuptools in /Users/damon/.pyenv/versions/3.7.0/lib/python3.7/site-packages (from spacy) (39.0.1)\n",
      "Requirement already satisfied, skipping upgrade: blis<0.8.0,>=0.4.0 in /Users/damon/.pyenv/versions/3.7.0/lib/python3.7/site-packages (from spacy) (0.7.4)\n",
      "Requirement already satisfied, skipping upgrade: tqdm<5.0.0,>=4.38.0 in /Users/damon/.pyenv/versions/3.7.0/lib/python3.7/site-packages (from spacy) (4.56.0)\n",
      "Requirement already satisfied, skipping upgrade: murmurhash<1.1.0,>=0.28.0 in /Users/damon/.pyenv/versions/3.7.0/lib/python3.7/site-packages (from spacy) (1.0.5)\n",
      "Requirement already satisfied, skipping upgrade: thinc<7.5.0,>=7.4.1 in /Users/damon/.pyenv/versions/3.7.0/lib/python3.7/site-packages (from spacy) (7.4.5)\n",
      "Requirement already satisfied, skipping upgrade: catalogue<1.1.0,>=0.0.7 in /Users/damon/.pyenv/versions/3.7.0/lib/python3.7/site-packages (from spacy) (1.0.0)\n",
      "Requirement already satisfied, skipping upgrade: chardet<5,>=3.0.2 in /Users/damon/.pyenv/versions/3.7.0/lib/python3.7/site-packages (from requests<3.0.0,>=2.13.0->spacy) (4.0.0)\n",
      "Requirement already satisfied, skipping upgrade: urllib3<1.27,>=1.21.1 in /Users/damon/.pyenv/versions/3.7.0/lib/python3.7/site-packages (from requests<3.0.0,>=2.13.0->spacy) (1.26.3)\n",
      "Requirement already satisfied, skipping upgrade: certifi>=2017.4.17 in /Users/damon/.pyenv/versions/3.7.0/lib/python3.7/site-packages (from requests<3.0.0,>=2.13.0->spacy) (2020.12.5)\n",
      "Requirement already satisfied, skipping upgrade: idna<3,>=2.5 in /Users/damon/.pyenv/versions/3.7.0/lib/python3.7/site-packages (from requests<3.0.0,>=2.13.0->spacy) (2.10)\n",
      "Requirement already satisfied, skipping upgrade: importlib-metadata>=0.20; python_version < \"3.8\" in /Users/damon/.pyenv/versions/3.7.0/lib/python3.7/site-packages (from catalogue<1.1.0,>=0.0.7->spacy) (3.4.0)\n",
      "Requirement already satisfied, skipping upgrade: zipp>=0.5 in /Users/damon/.pyenv/versions/3.7.0/lib/python3.7/site-packages (from importlib-metadata>=0.20; python_version < \"3.8\"->catalogue<1.1.0,>=0.0.7->spacy) (3.4.0)\n",
      "Requirement already satisfied, skipping upgrade: typing-extensions>=3.6.4; python_version < \"3.8\" in /Users/damon/.pyenv/versions/3.7.0/lib/python3.7/site-packages (from importlib-metadata>=0.20; python_version < \"3.8\"->catalogue<1.1.0,>=0.0.7->spacy) (3.7.4.3)\n",
      "\u001b[33mWARNING: You are using pip version 20.2.2; however, version 21.0.1 is available.\n",
      "You should consider upgrading via the '/Users/damon/.pyenv/versions/3.7.0/bin/python3.7 -m pip install --upgrade pip' command.\u001b[0m\n"
     ]
    }
   ],
   "source": [
    "!pip install -U spacy"
   ]
  },
  {
   "cell_type": "code",
   "execution_count": 6,
   "metadata": {},
   "outputs": [
    {
     "name": "stdout",
     "output_type": "stream",
     "text": [
      "Collecting scispacy\n",
      "  Using cached scispacy-0.3.0-py3-none-any.whl (42 kB)\n",
      "Requirement already satisfied: numpy in /Users/damon/.pyenv/versions/3.7.0/lib/python3.7/site-packages (from scispacy) (1.19.1)\n",
      "Collecting pysbd\n",
      "  Using cached pysbd-0.3.3-py3-none-any.whl (67 kB)\n",
      "Requirement already satisfied: scikit-learn>=0.20.3 in /Users/damon/.pyenv/versions/3.7.0/lib/python3.7/site-packages (from scispacy) (0.23.2)\n",
      "Requirement already satisfied: requests<3.0.0conllu,>=2.0.0 in /Users/damon/.pyenv/versions/3.7.0/lib/python3.7/site-packages (from scispacy) (2.25.1)\n",
      "Collecting nmslib>=1.7.3.6\n",
      "  Using cached nmslib-2.0.11-cp37-cp37m-macosx_10_14_x86_64.whl (919 kB)\n",
      "Requirement already satisfied: joblib in /Users/damon/.pyenv/versions/3.7.0/lib/python3.7/site-packages (from scispacy) (0.16.0)\n",
      "Requirement already satisfied: spacy<3.0.0,>=2.3.0 in /Users/damon/.pyenv/versions/3.7.0/lib/python3.7/site-packages (from scispacy) (2.3.5)\n",
      "Requirement already satisfied: scipy>=0.19.1 in /Users/damon/.pyenv/versions/3.7.0/lib/python3.7/site-packages (from scikit-learn>=0.20.3->scispacy) (1.5.2)\n",
      "Requirement already satisfied: threadpoolctl>=2.0.0 in /Users/damon/.pyenv/versions/3.7.0/lib/python3.7/site-packages (from scikit-learn>=0.20.3->scispacy) (2.1.0)\n",
      "Requirement already satisfied: certifi>=2017.4.17 in /Users/damon/.pyenv/versions/3.7.0/lib/python3.7/site-packages (from requests<3.0.0conllu,>=2.0.0->scispacy) (2020.12.5)\n",
      "Requirement already satisfied: chardet<5,>=3.0.2 in /Users/damon/.pyenv/versions/3.7.0/lib/python3.7/site-packages (from requests<3.0.0conllu,>=2.0.0->scispacy) (4.0.0)\n",
      "Requirement already satisfied: idna<3,>=2.5 in /Users/damon/.pyenv/versions/3.7.0/lib/python3.7/site-packages (from requests<3.0.0conllu,>=2.0.0->scispacy) (2.10)\n",
      "Requirement already satisfied: urllib3<1.27,>=1.21.1 in /Users/damon/.pyenv/versions/3.7.0/lib/python3.7/site-packages (from requests<3.0.0conllu,>=2.0.0->scispacy) (1.26.3)\n",
      "Collecting pybind11>=2.2.3\n",
      "  Using cached pybind11-2.6.2-py2.py3-none-any.whl (191 kB)\n",
      "Collecting psutil\n",
      "  Downloading psutil-5.8.0-cp37-cp37m-macosx_10_9_x86_64.whl (236 kB)\n",
      "\u001b[K     |████████████████████████████████| 236 kB 3.6 MB/s eta 0:00:01\n",
      "\u001b[?25hRequirement already satisfied: blis<0.8.0,>=0.4.0 in /Users/damon/.pyenv/versions/3.7.0/lib/python3.7/site-packages (from spacy<3.0.0,>=2.3.0->scispacy) (0.7.4)\n",
      "Requirement already satisfied: srsly<1.1.0,>=1.0.2 in /Users/damon/.pyenv/versions/3.7.0/lib/python3.7/site-packages (from spacy<3.0.0,>=2.3.0->scispacy) (1.0.5)\n",
      "Requirement already satisfied: murmurhash<1.1.0,>=0.28.0 in /Users/damon/.pyenv/versions/3.7.0/lib/python3.7/site-packages (from spacy<3.0.0,>=2.3.0->scispacy) (1.0.5)\n",
      "Requirement already satisfied: tqdm<5.0.0,>=4.38.0 in /Users/damon/.pyenv/versions/3.7.0/lib/python3.7/site-packages (from spacy<3.0.0,>=2.3.0->scispacy) (4.56.0)\n",
      "Requirement already satisfied: catalogue<1.1.0,>=0.0.7 in /Users/damon/.pyenv/versions/3.7.0/lib/python3.7/site-packages (from spacy<3.0.0,>=2.3.0->scispacy) (1.0.0)\n",
      "Requirement already satisfied: wasabi<1.1.0,>=0.4.0 in /Users/damon/.pyenv/versions/3.7.0/lib/python3.7/site-packages (from spacy<3.0.0,>=2.3.0->scispacy) (0.8.2)\n",
      "Requirement already satisfied: plac<1.2.0,>=0.9.6 in /Users/damon/.pyenv/versions/3.7.0/lib/python3.7/site-packages (from spacy<3.0.0,>=2.3.0->scispacy) (1.1.3)\n",
      "Requirement already satisfied: setuptools in /Users/damon/.pyenv/versions/3.7.0/lib/python3.7/site-packages (from spacy<3.0.0,>=2.3.0->scispacy) (39.0.1)\n",
      "Requirement already satisfied: cymem<2.1.0,>=2.0.2 in /Users/damon/.pyenv/versions/3.7.0/lib/python3.7/site-packages (from spacy<3.0.0,>=2.3.0->scispacy) (2.0.5)\n",
      "Requirement already satisfied: preshed<3.1.0,>=3.0.2 in /Users/damon/.pyenv/versions/3.7.0/lib/python3.7/site-packages (from spacy<3.0.0,>=2.3.0->scispacy) (3.0.5)\n",
      "Requirement already satisfied: thinc<7.5.0,>=7.4.1 in /Users/damon/.pyenv/versions/3.7.0/lib/python3.7/site-packages (from spacy<3.0.0,>=2.3.0->scispacy) (7.4.5)\n",
      "Requirement already satisfied: importlib-metadata>=0.20; python_version < \"3.8\" in /Users/damon/.pyenv/versions/3.7.0/lib/python3.7/site-packages (from catalogue<1.1.0,>=0.0.7->spacy<3.0.0,>=2.3.0->scispacy) (3.4.0)\n",
      "Requirement already satisfied: typing-extensions>=3.6.4; python_version < \"3.8\" in /Users/damon/.pyenv/versions/3.7.0/lib/python3.7/site-packages (from importlib-metadata>=0.20; python_version < \"3.8\"->catalogue<1.1.0,>=0.0.7->spacy<3.0.0,>=2.3.0->scispacy) (3.7.4.3)\n",
      "Requirement already satisfied: zipp>=0.5 in /Users/damon/.pyenv/versions/3.7.0/lib/python3.7/site-packages (from importlib-metadata>=0.20; python_version < \"3.8\"->catalogue<1.1.0,>=0.0.7->spacy<3.0.0,>=2.3.0->scispacy) (3.4.0)\n",
      "Installing collected packages: pysbd, pybind11, psutil, nmslib, scispacy\n",
      "Successfully installed nmslib-2.0.11 psutil-5.8.0 pybind11-2.6.2 pysbd-0.3.3 scispacy-0.3.0\n",
      "\u001b[33mWARNING: You are using pip version 20.2.2; however, version 21.0.1 is available.\n",
      "You should consider upgrading via the '/Users/damon/.pyenv/versions/3.7.0/bin/python3.7 -m pip install --upgrade pip' command.\u001b[0m\n"
     ]
    }
   ],
   "source": [
    "!pip install scispacy"
   ]
  },
  {
   "cell_type": "code",
   "execution_count": 28,
   "metadata": {},
   "outputs": [
    {
     "data": {
      "text/plain": [
       "'/Users/damon/Desktop/Georgetown University/Georgetown U/Research Project'"
      ]
     },
     "execution_count": 28,
     "metadata": {},
     "output_type": "execute_result"
    }
   ],
   "source": [
    "import os\n",
    "os.getcwd()"
   ]
  },
  {
   "cell_type": "code",
   "execution_count": 1,
   "metadata": {},
   "outputs": [
    {
     "name": "stdout",
     "output_type": "stream",
     "text": [
      "Collecting https://s3-us-west-2.amazonaws.com/ai2-s2-scispacy/releases/v0.3.0/en_ner_craft_md-0.3.0.tar.gz\n",
      "  Using cached https://s3-us-west-2.amazonaws.com/ai2-s2-scispacy/releases/v0.3.0/en_ner_craft_md-0.3.0.tar.gz (79.8 MB)\n",
      "Requirement already satisfied: spacy>=2.3.1 in /Users/damon/.pyenv/versions/3.7.0/lib/python3.7/site-packages (from en-ner-craft-md==0.3.0) (2.3.5)\n",
      "Requirement already satisfied: blis<0.8.0,>=0.4.0 in /Users/damon/.pyenv/versions/3.7.0/lib/python3.7/site-packages (from spacy>=2.3.1->en-ner-craft-md==0.3.0) (0.7.4)\n",
      "Requirement already satisfied: catalogue<1.1.0,>=0.0.7 in /Users/damon/.pyenv/versions/3.7.0/lib/python3.7/site-packages (from spacy>=2.3.1->en-ner-craft-md==0.3.0) (1.0.0)\n",
      "Requirement already satisfied: preshed<3.1.0,>=3.0.2 in /Users/damon/.pyenv/versions/3.7.0/lib/python3.7/site-packages (from spacy>=2.3.1->en-ner-craft-md==0.3.0) (3.0.5)\n",
      "Requirement already satisfied: tqdm<5.0.0,>=4.38.0 in /Users/damon/.pyenv/versions/3.7.0/lib/python3.7/site-packages (from spacy>=2.3.1->en-ner-craft-md==0.3.0) (4.56.0)\n",
      "Requirement already satisfied: setuptools in /Users/damon/.pyenv/versions/3.7.0/lib/python3.7/site-packages (from spacy>=2.3.1->en-ner-craft-md==0.3.0) (39.0.1)\n",
      "Requirement already satisfied: cymem<2.1.0,>=2.0.2 in /Users/damon/.pyenv/versions/3.7.0/lib/python3.7/site-packages (from spacy>=2.3.1->en-ner-craft-md==0.3.0) (2.0.5)\n",
      "Requirement already satisfied: numpy>=1.15.0 in /Users/damon/.pyenv/versions/3.7.0/lib/python3.7/site-packages (from spacy>=2.3.1->en-ner-craft-md==0.3.0) (1.19.1)\n",
      "Requirement already satisfied: srsly<1.1.0,>=1.0.2 in /Users/damon/.pyenv/versions/3.7.0/lib/python3.7/site-packages (from spacy>=2.3.1->en-ner-craft-md==0.3.0) (1.0.5)\n",
      "Requirement already satisfied: plac<1.2.0,>=0.9.6 in /Users/damon/.pyenv/versions/3.7.0/lib/python3.7/site-packages (from spacy>=2.3.1->en-ner-craft-md==0.3.0) (0.9.6)\n",
      "Requirement already satisfied: thinc<7.5.0,>=7.4.1 in /Users/damon/.pyenv/versions/3.7.0/lib/python3.7/site-packages (from spacy>=2.3.1->en-ner-craft-md==0.3.0) (7.4.5)\n",
      "Requirement already satisfied: murmurhash<1.1.0,>=0.28.0 in /Users/damon/.pyenv/versions/3.7.0/lib/python3.7/site-packages (from spacy>=2.3.1->en-ner-craft-md==0.3.0) (1.0.5)\n",
      "Requirement already satisfied: requests<3.0.0,>=2.13.0 in /Users/damon/.pyenv/versions/3.7.0/lib/python3.7/site-packages (from spacy>=2.3.1->en-ner-craft-md==0.3.0) (2.25.1)\n",
      "Requirement already satisfied: wasabi<1.1.0,>=0.4.0 in /Users/damon/.pyenv/versions/3.7.0/lib/python3.7/site-packages (from spacy>=2.3.1->en-ner-craft-md==0.3.0) (0.8.2)\n",
      "Requirement already satisfied: importlib-metadata>=0.20 in /Users/damon/.pyenv/versions/3.7.0/lib/python3.7/site-packages (from catalogue<1.1.0,>=0.0.7->spacy>=2.3.1->en-ner-craft-md==0.3.0) (3.4.0)\n",
      "Requirement already satisfied: typing-extensions>=3.6.4 in /Users/damon/.pyenv/versions/3.7.0/lib/python3.7/site-packages (from importlib-metadata>=0.20->catalogue<1.1.0,>=0.0.7->spacy>=2.3.1->en-ner-craft-md==0.3.0) (3.7.4.3)\n",
      "Requirement already satisfied: zipp>=0.5 in /Users/damon/.pyenv/versions/3.7.0/lib/python3.7/site-packages (from importlib-metadata>=0.20->catalogue<1.1.0,>=0.0.7->spacy>=2.3.1->en-ner-craft-md==0.3.0) (3.4.0)\n",
      "Requirement already satisfied: urllib3<1.27,>=1.21.1 in /Users/damon/.pyenv/versions/3.7.0/lib/python3.7/site-packages (from requests<3.0.0,>=2.13.0->spacy>=2.3.1->en-ner-craft-md==0.3.0) (1.26.3)\n",
      "Requirement already satisfied: certifi>=2017.4.17 in /Users/damon/.pyenv/versions/3.7.0/lib/python3.7/site-packages (from requests<3.0.0,>=2.13.0->spacy>=2.3.1->en-ner-craft-md==0.3.0) (2020.12.5)\n",
      "Requirement already satisfied: idna<3,>=2.5 in /Users/damon/.pyenv/versions/3.7.0/lib/python3.7/site-packages (from requests<3.0.0,>=2.13.0->spacy>=2.3.1->en-ner-craft-md==0.3.0) (2.10)\n",
      "Requirement already satisfied: chardet<5,>=3.0.2 in /Users/damon/.pyenv/versions/3.7.0/lib/python3.7/site-packages (from requests<3.0.0,>=2.13.0->spacy>=2.3.1->en-ner-craft-md==0.3.0) (4.0.0)\n",
      "Collecting https://s3-us-west-2.amazonaws.com/ai2-s2-scispacy/releases/v0.3.0/en_ner_jnlpba_md-0.3.0.tar.gz\n",
      "  Using cached https://s3-us-west-2.amazonaws.com/ai2-s2-scispacy/releases/v0.3.0/en_ner_jnlpba_md-0.3.0.tar.gz (79.8 MB)\n",
      "Requirement already satisfied: spacy>=2.3.1 in /Users/damon/.pyenv/versions/3.7.0/lib/python3.7/site-packages (from en-ner-jnlpba-md==0.3.0) (2.3.5)\n",
      "Requirement already satisfied: numpy>=1.15.0 in /Users/damon/.pyenv/versions/3.7.0/lib/python3.7/site-packages (from spacy>=2.3.1->en-ner-jnlpba-md==0.3.0) (1.19.1)\n",
      "Requirement already satisfied: srsly<1.1.0,>=1.0.2 in /Users/damon/.pyenv/versions/3.7.0/lib/python3.7/site-packages (from spacy>=2.3.1->en-ner-jnlpba-md==0.3.0) (1.0.5)\n",
      "Requirement already satisfied: blis<0.8.0,>=0.4.0 in /Users/damon/.pyenv/versions/3.7.0/lib/python3.7/site-packages (from spacy>=2.3.1->en-ner-jnlpba-md==0.3.0) (0.7.4)\n",
      "Requirement already satisfied: setuptools in /Users/damon/.pyenv/versions/3.7.0/lib/python3.7/site-packages (from spacy>=2.3.1->en-ner-jnlpba-md==0.3.0) (39.0.1)\n",
      "Requirement already satisfied: requests<3.0.0,>=2.13.0 in /Users/damon/.pyenv/versions/3.7.0/lib/python3.7/site-packages (from spacy>=2.3.1->en-ner-jnlpba-md==0.3.0) (2.25.1)\n",
      "Requirement already satisfied: cymem<2.1.0,>=2.0.2 in /Users/damon/.pyenv/versions/3.7.0/lib/python3.7/site-packages (from spacy>=2.3.1->en-ner-jnlpba-md==0.3.0) (2.0.5)\n",
      "Requirement already satisfied: plac<1.2.0,>=0.9.6 in /Users/damon/.pyenv/versions/3.7.0/lib/python3.7/site-packages (from spacy>=2.3.1->en-ner-jnlpba-md==0.3.0) (0.9.6)\n",
      "Requirement already satisfied: wasabi<1.1.0,>=0.4.0 in /Users/damon/.pyenv/versions/3.7.0/lib/python3.7/site-packages (from spacy>=2.3.1->en-ner-jnlpba-md==0.3.0) (0.8.2)\n",
      "Requirement already satisfied: preshed<3.1.0,>=3.0.2 in /Users/damon/.pyenv/versions/3.7.0/lib/python3.7/site-packages (from spacy>=2.3.1->en-ner-jnlpba-md==0.3.0) (3.0.5)\n",
      "Requirement already satisfied: murmurhash<1.1.0,>=0.28.0 in /Users/damon/.pyenv/versions/3.7.0/lib/python3.7/site-packages (from spacy>=2.3.1->en-ner-jnlpba-md==0.3.0) (1.0.5)\n",
      "Requirement already satisfied: catalogue<1.1.0,>=0.0.7 in /Users/damon/.pyenv/versions/3.7.0/lib/python3.7/site-packages (from spacy>=2.3.1->en-ner-jnlpba-md==0.3.0) (1.0.0)\n",
      "Requirement already satisfied: thinc<7.5.0,>=7.4.1 in /Users/damon/.pyenv/versions/3.7.0/lib/python3.7/site-packages (from spacy>=2.3.1->en-ner-jnlpba-md==0.3.0) (7.4.5)\n",
      "Requirement already satisfied: tqdm<5.0.0,>=4.38.0 in /Users/damon/.pyenv/versions/3.7.0/lib/python3.7/site-packages (from spacy>=2.3.1->en-ner-jnlpba-md==0.3.0) (4.56.0)\n",
      "Requirement already satisfied: importlib-metadata>=0.20 in /Users/damon/.pyenv/versions/3.7.0/lib/python3.7/site-packages (from catalogue<1.1.0,>=0.0.7->spacy>=2.3.1->en-ner-jnlpba-md==0.3.0) (3.4.0)\n",
      "Requirement already satisfied: zipp>=0.5 in /Users/damon/.pyenv/versions/3.7.0/lib/python3.7/site-packages (from importlib-metadata>=0.20->catalogue<1.1.0,>=0.0.7->spacy>=2.3.1->en-ner-jnlpba-md==0.3.0) (3.4.0)\n",
      "Requirement already satisfied: typing-extensions>=3.6.4 in /Users/damon/.pyenv/versions/3.7.0/lib/python3.7/site-packages (from importlib-metadata>=0.20->catalogue<1.1.0,>=0.0.7->spacy>=2.3.1->en-ner-jnlpba-md==0.3.0) (3.7.4.3)\n",
      "Requirement already satisfied: urllib3<1.27,>=1.21.1 in /Users/damon/.pyenv/versions/3.7.0/lib/python3.7/site-packages (from requests<3.0.0,>=2.13.0->spacy>=2.3.1->en-ner-jnlpba-md==0.3.0) (1.26.3)\n",
      "Requirement already satisfied: certifi>=2017.4.17 in /Users/damon/.pyenv/versions/3.7.0/lib/python3.7/site-packages (from requests<3.0.0,>=2.13.0->spacy>=2.3.1->en-ner-jnlpba-md==0.3.0) (2020.12.5)\n",
      "Requirement already satisfied: idna<3,>=2.5 in /Users/damon/.pyenv/versions/3.7.0/lib/python3.7/site-packages (from requests<3.0.0,>=2.13.0->spacy>=2.3.1->en-ner-jnlpba-md==0.3.0) (2.10)\n",
      "Requirement already satisfied: chardet<5,>=3.0.2 in /Users/damon/.pyenv/versions/3.7.0/lib/python3.7/site-packages (from requests<3.0.0,>=2.13.0->spacy>=2.3.1->en-ner-jnlpba-md==0.3.0) (4.0.0)\n",
      "Collecting https://s3-us-west-2.amazonaws.com/ai2-s2-scispacy/releases/v0.3.0/en_ner_bc5cdr_md-0.3.0.tar.gz\n",
      "  Using cached https://s3-us-west-2.amazonaws.com/ai2-s2-scispacy/releases/v0.3.0/en_ner_bc5cdr_md-0.3.0.tar.gz (79.8 MB)\n"
     ]
    },
    {
     "name": "stdout",
     "output_type": "stream",
     "text": [
      "Requirement already satisfied: spacy>=2.3.1 in /Users/damon/.pyenv/versions/3.7.0/lib/python3.7/site-packages (from en-ner-bc5cdr-md==0.3.0) (2.3.5)\n",
      "Requirement already satisfied: blis<0.8.0,>=0.4.0 in /Users/damon/.pyenv/versions/3.7.0/lib/python3.7/site-packages (from spacy>=2.3.1->en-ner-bc5cdr-md==0.3.0) (0.7.4)\n",
      "Requirement already satisfied: preshed<3.1.0,>=3.0.2 in /Users/damon/.pyenv/versions/3.7.0/lib/python3.7/site-packages (from spacy>=2.3.1->en-ner-bc5cdr-md==0.3.0) (3.0.5)\n",
      "Requirement already satisfied: cymem<2.1.0,>=2.0.2 in /Users/damon/.pyenv/versions/3.7.0/lib/python3.7/site-packages (from spacy>=2.3.1->en-ner-bc5cdr-md==0.3.0) (2.0.5)\n",
      "Requirement already satisfied: numpy>=1.15.0 in /Users/damon/.pyenv/versions/3.7.0/lib/python3.7/site-packages (from spacy>=2.3.1->en-ner-bc5cdr-md==0.3.0) (1.19.1)\n",
      "Requirement already satisfied: requests<3.0.0,>=2.13.0 in /Users/damon/.pyenv/versions/3.7.0/lib/python3.7/site-packages (from spacy>=2.3.1->en-ner-bc5cdr-md==0.3.0) (2.25.1)\n",
      "Requirement already satisfied: thinc<7.5.0,>=7.4.1 in /Users/damon/.pyenv/versions/3.7.0/lib/python3.7/site-packages (from spacy>=2.3.1->en-ner-bc5cdr-md==0.3.0) (7.4.5)\n",
      "Requirement already satisfied: plac<1.2.0,>=0.9.6 in /Users/damon/.pyenv/versions/3.7.0/lib/python3.7/site-packages (from spacy>=2.3.1->en-ner-bc5cdr-md==0.3.0) (0.9.6)\n",
      "Requirement already satisfied: murmurhash<1.1.0,>=0.28.0 in /Users/damon/.pyenv/versions/3.7.0/lib/python3.7/site-packages (from spacy>=2.3.1->en-ner-bc5cdr-md==0.3.0) (1.0.5)\n",
      "Requirement already satisfied: catalogue<1.1.0,>=0.0.7 in /Users/damon/.pyenv/versions/3.7.0/lib/python3.7/site-packages (from spacy>=2.3.1->en-ner-bc5cdr-md==0.3.0) (1.0.0)\n",
      "Requirement already satisfied: srsly<1.1.0,>=1.0.2 in /Users/damon/.pyenv/versions/3.7.0/lib/python3.7/site-packages (from spacy>=2.3.1->en-ner-bc5cdr-md==0.3.0) (1.0.5)\n",
      "Requirement already satisfied: setuptools in /Users/damon/.pyenv/versions/3.7.0/lib/python3.7/site-packages (from spacy>=2.3.1->en-ner-bc5cdr-md==0.3.0) (39.0.1)\n",
      "Requirement already satisfied: wasabi<1.1.0,>=0.4.0 in /Users/damon/.pyenv/versions/3.7.0/lib/python3.7/site-packages (from spacy>=2.3.1->en-ner-bc5cdr-md==0.3.0) (0.8.2)\n",
      "Requirement already satisfied: tqdm<5.0.0,>=4.38.0 in /Users/damon/.pyenv/versions/3.7.0/lib/python3.7/site-packages (from spacy>=2.3.1->en-ner-bc5cdr-md==0.3.0) (4.56.0)\n",
      "Requirement already satisfied: importlib-metadata>=0.20 in /Users/damon/.pyenv/versions/3.7.0/lib/python3.7/site-packages (from catalogue<1.1.0,>=0.0.7->spacy>=2.3.1->en-ner-bc5cdr-md==0.3.0) (3.4.0)\n",
      "Requirement already satisfied: typing-extensions>=3.6.4 in /Users/damon/.pyenv/versions/3.7.0/lib/python3.7/site-packages (from importlib-metadata>=0.20->catalogue<1.1.0,>=0.0.7->spacy>=2.3.1->en-ner-bc5cdr-md==0.3.0) (3.7.4.3)\n",
      "Requirement already satisfied: zipp>=0.5 in /Users/damon/.pyenv/versions/3.7.0/lib/python3.7/site-packages (from importlib-metadata>=0.20->catalogue<1.1.0,>=0.0.7->spacy>=2.3.1->en-ner-bc5cdr-md==0.3.0) (3.4.0)\n",
      "Requirement already satisfied: chardet<5,>=3.0.2 in /Users/damon/.pyenv/versions/3.7.0/lib/python3.7/site-packages (from requests<3.0.0,>=2.13.0->spacy>=2.3.1->en-ner-bc5cdr-md==0.3.0) (4.0.0)\n",
      "Requirement already satisfied: urllib3<1.27,>=1.21.1 in /Users/damon/.pyenv/versions/3.7.0/lib/python3.7/site-packages (from requests<3.0.0,>=2.13.0->spacy>=2.3.1->en-ner-bc5cdr-md==0.3.0) (1.26.3)\n",
      "Requirement already satisfied: certifi>=2017.4.17 in /Users/damon/.pyenv/versions/3.7.0/lib/python3.7/site-packages (from requests<3.0.0,>=2.13.0->spacy>=2.3.1->en-ner-bc5cdr-md==0.3.0) (2020.12.5)\n",
      "Requirement already satisfied: idna<3,>=2.5 in /Users/damon/.pyenv/versions/3.7.0/lib/python3.7/site-packages (from requests<3.0.0,>=2.13.0->spacy>=2.3.1->en-ner-bc5cdr-md==0.3.0) (2.10)\n",
      "Collecting https://s3-us-west-2.amazonaws.com/ai2-s2-scispacy/releases/v0.3.0/en_ner_bionlp13cg_md-0.3.0.tar.gz\n",
      "  Using cached https://s3-us-west-2.amazonaws.com/ai2-s2-scispacy/releases/v0.3.0/en_ner_bionlp13cg_md-0.3.0.tar.gz (79.8 MB)\n",
      "Requirement already satisfied: spacy>=2.3.1 in /Users/damon/.pyenv/versions/3.7.0/lib/python3.7/site-packages (from en-ner-bionlp13cg-md==0.3.0) (2.3.5)\n",
      "Requirement already satisfied: catalogue<1.1.0,>=0.0.7 in /Users/damon/.pyenv/versions/3.7.0/lib/python3.7/site-packages (from spacy>=2.3.1->en-ner-bionlp13cg-md==0.3.0) (1.0.0)\n",
      "Requirement already satisfied: murmurhash<1.1.0,>=0.28.0 in /Users/damon/.pyenv/versions/3.7.0/lib/python3.7/site-packages (from spacy>=2.3.1->en-ner-bionlp13cg-md==0.3.0) (1.0.5)\n",
      "Requirement already satisfied: setuptools in /Users/damon/.pyenv/versions/3.7.0/lib/python3.7/site-packages (from spacy>=2.3.1->en-ner-bionlp13cg-md==0.3.0) (39.0.1)\n",
      "Requirement already satisfied: numpy>=1.15.0 in /Users/damon/.pyenv/versions/3.7.0/lib/python3.7/site-packages (from spacy>=2.3.1->en-ner-bionlp13cg-md==0.3.0) (1.19.1)\n",
      "Requirement already satisfied: thinc<7.5.0,>=7.4.1 in /Users/damon/.pyenv/versions/3.7.0/lib/python3.7/site-packages (from spacy>=2.3.1->en-ner-bionlp13cg-md==0.3.0) (7.4.5)\n",
      "Requirement already satisfied: tqdm<5.0.0,>=4.38.0 in /Users/damon/.pyenv/versions/3.7.0/lib/python3.7/site-packages (from spacy>=2.3.1->en-ner-bionlp13cg-md==0.3.0) (4.56.0)\n",
      "Requirement already satisfied: plac<1.2.0,>=0.9.6 in /Users/damon/.pyenv/versions/3.7.0/lib/python3.7/site-packages (from spacy>=2.3.1->en-ner-bionlp13cg-md==0.3.0) (0.9.6)\n",
      "Requirement already satisfied: requests<3.0.0,>=2.13.0 in /Users/damon/.pyenv/versions/3.7.0/lib/python3.7/site-packages (from spacy>=2.3.1->en-ner-bionlp13cg-md==0.3.0) (2.25.1)\n",
      "Requirement already satisfied: blis<0.8.0,>=0.4.0 in /Users/damon/.pyenv/versions/3.7.0/lib/python3.7/site-packages (from spacy>=2.3.1->en-ner-bionlp13cg-md==0.3.0) (0.7.4)\n",
      "Requirement already satisfied: srsly<1.1.0,>=1.0.2 in /Users/damon/.pyenv/versions/3.7.0/lib/python3.7/site-packages (from spacy>=2.3.1->en-ner-bionlp13cg-md==0.3.0) (1.0.5)\n",
      "Requirement already satisfied: wasabi<1.1.0,>=0.4.0 in /Users/damon/.pyenv/versions/3.7.0/lib/python3.7/site-packages (from spacy>=2.3.1->en-ner-bionlp13cg-md==0.3.0) (0.8.2)\n",
      "Requirement already satisfied: preshed<3.1.0,>=3.0.2 in /Users/damon/.pyenv/versions/3.7.0/lib/python3.7/site-packages (from spacy>=2.3.1->en-ner-bionlp13cg-md==0.3.0) (3.0.5)\n",
      "Requirement already satisfied: cymem<2.1.0,>=2.0.2 in /Users/damon/.pyenv/versions/3.7.0/lib/python3.7/site-packages (from spacy>=2.3.1->en-ner-bionlp13cg-md==0.3.0) (2.0.5)\n",
      "Requirement already satisfied: importlib-metadata>=0.20 in /Users/damon/.pyenv/versions/3.7.0/lib/python3.7/site-packages (from catalogue<1.1.0,>=0.0.7->spacy>=2.3.1->en-ner-bionlp13cg-md==0.3.0) (3.4.0)\n",
      "Requirement already satisfied: zipp>=0.5 in /Users/damon/.pyenv/versions/3.7.0/lib/python3.7/site-packages (from importlib-metadata>=0.20->catalogue<1.1.0,>=0.0.7->spacy>=2.3.1->en-ner-bionlp13cg-md==0.3.0) (3.4.0)\n",
      "Requirement already satisfied: typing-extensions>=3.6.4 in /Users/damon/.pyenv/versions/3.7.0/lib/python3.7/site-packages (from importlib-metadata>=0.20->catalogue<1.1.0,>=0.0.7->spacy>=2.3.1->en-ner-bionlp13cg-md==0.3.0) (3.7.4.3)\n",
      "Requirement already satisfied: certifi>=2017.4.17 in /Users/damon/.pyenv/versions/3.7.0/lib/python3.7/site-packages (from requests<3.0.0,>=2.13.0->spacy>=2.3.1->en-ner-bionlp13cg-md==0.3.0) (2020.12.5)\n",
      "Requirement already satisfied: idna<3,>=2.5 in /Users/damon/.pyenv/versions/3.7.0/lib/python3.7/site-packages (from requests<3.0.0,>=2.13.0->spacy>=2.3.1->en-ner-bionlp13cg-md==0.3.0) (2.10)\n",
      "Requirement already satisfied: urllib3<1.27,>=1.21.1 in /Users/damon/.pyenv/versions/3.7.0/lib/python3.7/site-packages (from requests<3.0.0,>=2.13.0->spacy>=2.3.1->en-ner-bionlp13cg-md==0.3.0) (1.26.3)\n",
      "Requirement already satisfied: chardet<5,>=3.0.2 in /Users/damon/.pyenv/versions/3.7.0/lib/python3.7/site-packages (from requests<3.0.0,>=2.13.0->spacy>=2.3.1->en-ner-bionlp13cg-md==0.3.0) (4.0.0)\n"
     ]
    }
   ],
   "source": [
    "# install the pre-tained model\n",
    "# online\n",
    "!pip install https://s3-us-west-2.amazonaws.com/ai2-s2-scispacy/releases/v0.3.0/en_ner_craft_md-0.3.0.tar.gz\n",
    "!pip install https://s3-us-west-2.amazonaws.com/ai2-s2-scispacy/releases/v0.3.0/en_ner_jnlpba_md-0.3.0.tar.gz\n",
    "!pip install https://s3-us-west-2.amazonaws.com/ai2-s2-scispacy/releases/v0.3.0/en_ner_bc5cdr_md-0.3.0.tar.gz\n",
    "!pip install https://s3-us-west-2.amazonaws.com/ai2-s2-scispacy/releases/v0.3.0/en_ner_bionlp13cg_md-0.3.0.tar.gz\n",
    "# local\n",
    "#!pip install /Users/damon/Desktop/Georgetown\\ University/Georgetown\\ U/Research\\ Project/en_core_sci_md-0.3.0.tar.gz"
   ]
  },
  {
   "cell_type": "code",
   "execution_count": 2,
   "metadata": {},
   "outputs": [],
   "source": [
    "# import necessary packages\n",
    "import scispacy\n",
    "import spacy\n",
    "# the model we are going to use\n",
    "#import en_core_web_sm\n",
    "from spacy import displacy\n",
    "from scispacy.abbreviation import AbbreviationDetector\n",
    "from scispacy.umls_linking import UmlsEntityLinker"
   ]
  },
  {
   "cell_type": "code",
   "execution_count": 3,
   "metadata": {},
   "outputs": [],
   "source": [
    "# Define the pre-trained model.\n",
    "nlp_craft = spacy.load(\"/Users/damon/.pyenv/versions/3.7.0/lib/python3.7/site-packages/en_ner_craft_md/en_ner_craft_md-0.3.0\") \n",
    "nlp_jnlpha = spacy.load(\"/Users/damon/.pyenv/versions/3.7.0/lib/python3.7/site-packages/en_ner_jnlpba_md/en_ner_jnlpba_md-0.3.0\") \n",
    "nlp_bc5cdr = spacy.load(\"/Users/damon/.pyenv/versions/3.7.0/lib/python3.7/site-packages/en_ner_bc5cdr_md/en_ner_bc5cdr_md-0.3.0\") \n",
    "nlp_bionlp13cg = spacy.load(\"/Users/damon/.pyenv/versions/3.7.0/lib/python3.7/site-packages/en_ner_bionlp13cg_md/en_ner_bionlp13cg_md-0.3.0\") "
   ]
  },
  {
   "cell_type": "code",
   "execution_count": 434,
   "metadata": {},
   "outputs": [],
   "source": [
    "text = '''Colorectal cancer in adults and children 12 years and older. It is used alone or with ipilimumab to treat metastatic microsatellite instability-high (MSI-H) or mismatch repair deficient (dMMR) cancer that got worse after treatment with a fluoropyrimidine, oxaliplatin, and irinotecan hydrochloride.¹'''"
   ]
  },
  {
   "cell_type": "code",
   "execution_count": 435,
   "metadata": {},
   "outputs": [
    {
     "name": "stdout",
     "output_type": "stream",
     "text": [
      "[Colorectal cancer in adults and children 12 years and older., It is used alone or with ipilimumab to treat metastatic microsatellite instability-high (MSI-H) or mismatch repair deficient (dMMR) cancer that got worse after treatment with a fluoropyrimidine, oxaliplatin, and irinotecan hydrochloride.¹]\n"
     ]
    }
   ],
   "source": [
    "doc = nlp_craft(str(text))\n",
    "print(list(doc.sents))"
   ]
  },
  {
   "cell_type": "code",
   "execution_count": 436,
   "metadata": {},
   "outputs": [
    {
     "name": "stdout",
     "output_type": "stream",
     "text": [
      "(hydrochloride.¹,)\n"
     ]
    }
   ],
   "source": [
    "# Find the Bio-Medical Entities in the given text\n",
    "print(doc.ents)"
   ]
  },
  {
   "cell_type": "code",
   "execution_count": 413,
   "metadata": {},
   "outputs": [
    {
     "data": {
      "text/html": [
       "<span class=\"tex2jax_ignore\"><svg xmlns=\"http://www.w3.org/2000/svg\" xmlns:xlink=\"http://www.w3.org/1999/xlink\" xml:lang=\"en\" id=\"bbeae54c72cb4b8b8ee1e27e72bda372-0\" class=\"displacy\" width=\"1800\" height=\"399.5\" direction=\"ltr\" style=\"max-width: none; height: 399.5px; color: #000000; background: #ffffff; font-family: Arial; direction: ltr\">\n",
       "<text class=\"displacy-token\" fill=\"currentColor\" text-anchor=\"middle\" y=\"309.5\">\n",
       "    <tspan class=\"displacy-word\" fill=\"currentColor\" x=\"50\">Colorectal</tspan>\n",
       "    <tspan class=\"displacy-tag\" dy=\"2em\" fill=\"currentColor\" x=\"50\">ADJ</tspan>\n",
       "</text>\n",
       "\n",
       "<text class=\"displacy-token\" fill=\"currentColor\" text-anchor=\"middle\" y=\"309.5\">\n",
       "    <tspan class=\"displacy-word\" fill=\"currentColor\" x=\"225\">cancer</tspan>\n",
       "    <tspan class=\"displacy-tag\" dy=\"2em\" fill=\"currentColor\" x=\"225\">NOUN</tspan>\n",
       "</text>\n",
       "\n",
       "<text class=\"displacy-token\" fill=\"currentColor\" text-anchor=\"middle\" y=\"309.5\">\n",
       "    <tspan class=\"displacy-word\" fill=\"currentColor\" x=\"400\">in</tspan>\n",
       "    <tspan class=\"displacy-tag\" dy=\"2em\" fill=\"currentColor\" x=\"400\">ADP</tspan>\n",
       "</text>\n",
       "\n",
       "<text class=\"displacy-token\" fill=\"currentColor\" text-anchor=\"middle\" y=\"309.5\">\n",
       "    <tspan class=\"displacy-word\" fill=\"currentColor\" x=\"575\">adults</tspan>\n",
       "    <tspan class=\"displacy-tag\" dy=\"2em\" fill=\"currentColor\" x=\"575\">NOUN</tspan>\n",
       "</text>\n",
       "\n",
       "<text class=\"displacy-token\" fill=\"currentColor\" text-anchor=\"middle\" y=\"309.5\">\n",
       "    <tspan class=\"displacy-word\" fill=\"currentColor\" x=\"750\">and</tspan>\n",
       "    <tspan class=\"displacy-tag\" dy=\"2em\" fill=\"currentColor\" x=\"750\">CCONJ</tspan>\n",
       "</text>\n",
       "\n",
       "<text class=\"displacy-token\" fill=\"currentColor\" text-anchor=\"middle\" y=\"309.5\">\n",
       "    <tspan class=\"displacy-word\" fill=\"currentColor\" x=\"925\">children</tspan>\n",
       "    <tspan class=\"displacy-tag\" dy=\"2em\" fill=\"currentColor\" x=\"925\">NOUN</tspan>\n",
       "</text>\n",
       "\n",
       "<text class=\"displacy-token\" fill=\"currentColor\" text-anchor=\"middle\" y=\"309.5\">\n",
       "    <tspan class=\"displacy-word\" fill=\"currentColor\" x=\"1100\">12</tspan>\n",
       "    <tspan class=\"displacy-tag\" dy=\"2em\" fill=\"currentColor\" x=\"1100\">NUM</tspan>\n",
       "</text>\n",
       "\n",
       "<text class=\"displacy-token\" fill=\"currentColor\" text-anchor=\"middle\" y=\"309.5\">\n",
       "    <tspan class=\"displacy-word\" fill=\"currentColor\" x=\"1275\">years</tspan>\n",
       "    <tspan class=\"displacy-tag\" dy=\"2em\" fill=\"currentColor\" x=\"1275\">NOUN</tspan>\n",
       "</text>\n",
       "\n",
       "<text class=\"displacy-token\" fill=\"currentColor\" text-anchor=\"middle\" y=\"309.5\">\n",
       "    <tspan class=\"displacy-word\" fill=\"currentColor\" x=\"1450\">and</tspan>\n",
       "    <tspan class=\"displacy-tag\" dy=\"2em\" fill=\"currentColor\" x=\"1450\">CCONJ</tspan>\n",
       "</text>\n",
       "\n",
       "<text class=\"displacy-token\" fill=\"currentColor\" text-anchor=\"middle\" y=\"309.5\">\n",
       "    <tspan class=\"displacy-word\" fill=\"currentColor\" x=\"1625\">older.</tspan>\n",
       "    <tspan class=\"displacy-tag\" dy=\"2em\" fill=\"currentColor\" x=\"1625\">ADJ</tspan>\n",
       "</text>\n",
       "\n",
       "<g class=\"displacy-arrow\">\n",
       "    <path class=\"displacy-arc\" id=\"arrow-bbeae54c72cb4b8b8ee1e27e72bda372-0-0\" stroke-width=\"2px\" d=\"M70,264.5 C70,177.0 215.0,177.0 215.0,264.5\" fill=\"none\" stroke=\"currentColor\"/>\n",
       "    <text dy=\"1.25em\" style=\"font-size: 0.8em; letter-spacing: 1px\">\n",
       "        <textPath xlink:href=\"#arrow-bbeae54c72cb4b8b8ee1e27e72bda372-0-0\" class=\"displacy-label\" startOffset=\"50%\" side=\"left\" fill=\"currentColor\" text-anchor=\"middle\">amod</textPath>\n",
       "    </text>\n",
       "    <path class=\"displacy-arrowhead\" d=\"M70,266.5 L62,254.5 78,254.5\" fill=\"currentColor\"/>\n",
       "</g>\n",
       "\n",
       "<g class=\"displacy-arrow\">\n",
       "    <path class=\"displacy-arc\" id=\"arrow-bbeae54c72cb4b8b8ee1e27e72bda372-0-1\" stroke-width=\"2px\" d=\"M420,264.5 C420,177.0 565.0,177.0 565.0,264.5\" fill=\"none\" stroke=\"currentColor\"/>\n",
       "    <text dy=\"1.25em\" style=\"font-size: 0.8em; letter-spacing: 1px\">\n",
       "        <textPath xlink:href=\"#arrow-bbeae54c72cb4b8b8ee1e27e72bda372-0-1\" class=\"displacy-label\" startOffset=\"50%\" side=\"left\" fill=\"currentColor\" text-anchor=\"middle\">case</textPath>\n",
       "    </text>\n",
       "    <path class=\"displacy-arrowhead\" d=\"M420,266.5 L412,254.5 428,254.5\" fill=\"currentColor\"/>\n",
       "</g>\n",
       "\n",
       "<g class=\"displacy-arrow\">\n",
       "    <path class=\"displacy-arc\" id=\"arrow-bbeae54c72cb4b8b8ee1e27e72bda372-0-2\" stroke-width=\"2px\" d=\"M245,264.5 C245,89.5 570.0,89.5 570.0,264.5\" fill=\"none\" stroke=\"currentColor\"/>\n",
       "    <text dy=\"1.25em\" style=\"font-size: 0.8em; letter-spacing: 1px\">\n",
       "        <textPath xlink:href=\"#arrow-bbeae54c72cb4b8b8ee1e27e72bda372-0-2\" class=\"displacy-label\" startOffset=\"50%\" side=\"left\" fill=\"currentColor\" text-anchor=\"middle\">nmod</textPath>\n",
       "    </text>\n",
       "    <path class=\"displacy-arrowhead\" d=\"M570.0,266.5 L578.0,254.5 562.0,254.5\" fill=\"currentColor\"/>\n",
       "</g>\n",
       "\n",
       "<g class=\"displacy-arrow\">\n",
       "    <path class=\"displacy-arc\" id=\"arrow-bbeae54c72cb4b8b8ee1e27e72bda372-0-3\" stroke-width=\"2px\" d=\"M595,264.5 C595,177.0 740.0,177.0 740.0,264.5\" fill=\"none\" stroke=\"currentColor\"/>\n",
       "    <text dy=\"1.25em\" style=\"font-size: 0.8em; letter-spacing: 1px\">\n",
       "        <textPath xlink:href=\"#arrow-bbeae54c72cb4b8b8ee1e27e72bda372-0-3\" class=\"displacy-label\" startOffset=\"50%\" side=\"left\" fill=\"currentColor\" text-anchor=\"middle\">cc</textPath>\n",
       "    </text>\n",
       "    <path class=\"displacy-arrowhead\" d=\"M740.0,266.5 L748.0,254.5 732.0,254.5\" fill=\"currentColor\"/>\n",
       "</g>\n",
       "\n",
       "<g class=\"displacy-arrow\">\n",
       "    <path class=\"displacy-arc\" id=\"arrow-bbeae54c72cb4b8b8ee1e27e72bda372-0-4\" stroke-width=\"2px\" d=\"M595,264.5 C595,89.5 920.0,89.5 920.0,264.5\" fill=\"none\" stroke=\"currentColor\"/>\n",
       "    <text dy=\"1.25em\" style=\"font-size: 0.8em; letter-spacing: 1px\">\n",
       "        <textPath xlink:href=\"#arrow-bbeae54c72cb4b8b8ee1e27e72bda372-0-4\" class=\"displacy-label\" startOffset=\"50%\" side=\"left\" fill=\"currentColor\" text-anchor=\"middle\">conj</textPath>\n",
       "    </text>\n",
       "    <path class=\"displacy-arrowhead\" d=\"M920.0,266.5 L928.0,254.5 912.0,254.5\" fill=\"currentColor\"/>\n",
       "</g>\n",
       "\n",
       "<g class=\"displacy-arrow\">\n",
       "    <path class=\"displacy-arc\" id=\"arrow-bbeae54c72cb4b8b8ee1e27e72bda372-0-5\" stroke-width=\"2px\" d=\"M1120,264.5 C1120,177.0 1265.0,177.0 1265.0,264.5\" fill=\"none\" stroke=\"currentColor\"/>\n",
       "    <text dy=\"1.25em\" style=\"font-size: 0.8em; letter-spacing: 1px\">\n",
       "        <textPath xlink:href=\"#arrow-bbeae54c72cb4b8b8ee1e27e72bda372-0-5\" class=\"displacy-label\" startOffset=\"50%\" side=\"left\" fill=\"currentColor\" text-anchor=\"middle\">nummod</textPath>\n",
       "    </text>\n",
       "    <path class=\"displacy-arrowhead\" d=\"M1120,266.5 L1112,254.5 1128,254.5\" fill=\"currentColor\"/>\n",
       "</g>\n",
       "\n",
       "<g class=\"displacy-arrow\">\n",
       "    <path class=\"displacy-arc\" id=\"arrow-bbeae54c72cb4b8b8ee1e27e72bda372-0-6\" stroke-width=\"2px\" d=\"M245,264.5 C245,2.0 1275.0,2.0 1275.0,264.5\" fill=\"none\" stroke=\"currentColor\"/>\n",
       "    <text dy=\"1.25em\" style=\"font-size: 0.8em; letter-spacing: 1px\">\n",
       "        <textPath xlink:href=\"#arrow-bbeae54c72cb4b8b8ee1e27e72bda372-0-6\" class=\"displacy-label\" startOffset=\"50%\" side=\"left\" fill=\"currentColor\" text-anchor=\"middle\">appos</textPath>\n",
       "    </text>\n",
       "    <path class=\"displacy-arrowhead\" d=\"M1275.0,266.5 L1283.0,254.5 1267.0,254.5\" fill=\"currentColor\"/>\n",
       "</g>\n",
       "\n",
       "<g class=\"displacy-arrow\">\n",
       "    <path class=\"displacy-arc\" id=\"arrow-bbeae54c72cb4b8b8ee1e27e72bda372-0-7\" stroke-width=\"2px\" d=\"M1295,264.5 C1295,177.0 1440.0,177.0 1440.0,264.5\" fill=\"none\" stroke=\"currentColor\"/>\n",
       "    <text dy=\"1.25em\" style=\"font-size: 0.8em; letter-spacing: 1px\">\n",
       "        <textPath xlink:href=\"#arrow-bbeae54c72cb4b8b8ee1e27e72bda372-0-7\" class=\"displacy-label\" startOffset=\"50%\" side=\"left\" fill=\"currentColor\" text-anchor=\"middle\">cc</textPath>\n",
       "    </text>\n",
       "    <path class=\"displacy-arrowhead\" d=\"M1440.0,266.5 L1448.0,254.5 1432.0,254.5\" fill=\"currentColor\"/>\n",
       "</g>\n",
       "\n",
       "<g class=\"displacy-arrow\">\n",
       "    <path class=\"displacy-arc\" id=\"arrow-bbeae54c72cb4b8b8ee1e27e72bda372-0-8\" stroke-width=\"2px\" d=\"M1295,264.5 C1295,89.5 1620.0,89.5 1620.0,264.5\" fill=\"none\" stroke=\"currentColor\"/>\n",
       "    <text dy=\"1.25em\" style=\"font-size: 0.8em; letter-spacing: 1px\">\n",
       "        <textPath xlink:href=\"#arrow-bbeae54c72cb4b8b8ee1e27e72bda372-0-8\" class=\"displacy-label\" startOffset=\"50%\" side=\"left\" fill=\"currentColor\" text-anchor=\"middle\">conj</textPath>\n",
       "    </text>\n",
       "    <path class=\"displacy-arrowhead\" d=\"M1620.0,266.5 L1628.0,254.5 1612.0,254.5\" fill=\"currentColor\"/>\n",
       "</g>\n",
       "</svg></span>"
      ],
      "text/plain": [
       "<IPython.core.display.HTML object>"
      ]
     },
     "metadata": {},
     "output_type": "display_data"
    }
   ],
   "source": [
    "# visualize dependency parses\n",
    "from spacy import displacy\n",
    "displacy.render(next(doc.sents), style='dep', jupyter=True)"
   ]
  },
  {
   "cell_type": "code",
   "execution_count": 414,
   "metadata": {},
   "outputs": [],
   "source": [
    "# visualize the entities\n",
    "# displacy.serve(doc, style=\"ent\")"
   ]
  },
  {
   "cell_type": "code",
   "execution_count": 415,
   "metadata": {},
   "outputs": [
    {
     "name": "stdout",
     "output_type": "stream",
     "text": [
      "irinotecan hydrochloride.¹ PROTEIN\n"
     ]
    }
   ],
   "source": [
    "for entity in doc.ents:\n",
    "    print(entity.text, entity.label_)"
   ]
  },
  {
   "cell_type": "code",
   "execution_count": 416,
   "metadata": {},
   "outputs": [],
   "source": [
    "# filter a certain type\n",
    "for i in doc.ents:\n",
    "    if i.label_=='GGP':\n",
    "        print(i.text)"
   ]
  }
 ],
 "metadata": {
  "kernelspec": {
   "display_name": "Python 3",
   "language": "python",
   "name": "python3"
  },
  "language_info": {
   "codemirror_mode": {
    "name": "ipython",
    "version": 3
   },
   "file_extension": ".py",
   "mimetype": "text/x-python",
   "name": "python",
   "nbconvert_exporter": "python",
   "pygments_lexer": "ipython3",
   "version": "3.7.4"
  }
 },
 "nbformat": 4,
 "nbformat_minor": 2
}
